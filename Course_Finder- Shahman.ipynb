{
  "cells": [
    {
      "cell_type": "markdown",
      "metadata": {
        "colab_type": "text",
        "id": "view-in-github"
      },
      "source": [
        "<a href=\"https://colab.research.google.com/github/shahmancodes/Course-Database/blob/main/Course_Finder.ipynb\" target=\"_parent\"><img src=\"https://colab.research.google.com/assets/colab-badge.svg\" alt=\"Open In Colab\"/></a>"
      ]
    },
    {
      "cell_type": "code",
      "execution_count": 13,
      "metadata": {
        "id": "aqUERpyICMGC"
      },
      "outputs": [],
      "source": [
        "import numpy as np\n",
        "import pandas as pd\n",
        "import openpyxl\n",
        "import sklearn"
      ]
    },
    {
      "cell_type": "code",
      "execution_count": 14,
      "metadata": {
        "id": "ij74fUYmCON7"
      },
      "outputs": [],
      "source": [
        "ust = pd.read_excel(\"Data/HKUST Comp.xlsx\").dropna()\n",
        "hku = pd.read_csv(\"Data/HKU Comp.csv\")"
      ]
    },
    {
      "cell_type": "code",
      "execution_count": 7,
      "metadata": {
        "id": "39MMaa-p4DNI"
      },
      "outputs": [],
      "source": [
        "courses = {0:[0,1],1:[0],2:[2],3:[0],4:[0,1],5:[],6:[17],7:[1],8:[9],9:[9],10:[26],11:[7],12:[38],13:[8],14:[8],15:[],16:[],17:[25],18:[0],19:[16],20:[16],21:[]}"
      ]
    },
    {
      "cell_type": "code",
      "execution_count": 8,
      "metadata": {
        "colab": {
          "base_uri": "https://localhost:8080/"
        },
        "id": "6oVxEIEFDYhe",
        "outputId": "c1d2ddd2-f3e9-4211-d7a8-62c02769b0aa"
      },
      "outputs": [
        {
          "ename": "ModuleNotFoundError",
          "evalue": "No module named 'sklearn'",
          "output_type": "error",
          "traceback": [
            "\u001b[1;31m---------------------------------------------------------------------------\u001b[0m",
            "\u001b[1;31mModuleNotFoundError\u001b[0m                       Traceback (most recent call last)",
            "Cell \u001b[1;32mIn[8], line 1\u001b[0m\n\u001b[1;32m----> 1\u001b[0m \u001b[38;5;28;01mfrom\u001b[39;00m \u001b[38;5;21;01msklearn\u001b[39;00m\u001b[38;5;21;01m.\u001b[39;00m\u001b[38;5;21;01mfeature_extraction\u001b[39;00m\u001b[38;5;21;01m.\u001b[39;00m\u001b[38;5;21;01mtext\u001b[39;00m \u001b[38;5;28;01mimport\u001b[39;00m TfidfVectorizer\n\u001b[0;32m      2\u001b[0m \u001b[38;5;28;01mfrom\u001b[39;00m \u001b[38;5;21;01msklearn\u001b[39;00m\u001b[38;5;21;01m.\u001b[39;00m\u001b[38;5;21;01mmetrics\u001b[39;00m\u001b[38;5;21;01m.\u001b[39;00m\u001b[38;5;21;01mpairwise\u001b[39;00m \u001b[38;5;28;01mimport\u001b[39;00m cosine_similarity\n\u001b[0;32m      3\u001b[0m \u001b[38;5;28;01mimport\u001b[39;00m \u001b[38;5;21;01mnumpy\u001b[39;00m \u001b[38;5;28;01mas\u001b[39;00m \u001b[38;5;21;01mnp\u001b[39;00m\n",
            "\u001b[1;31mModuleNotFoundError\u001b[0m: No module named 'sklearn'"
          ]
        }
      ],
      "source": [
        "from sklearn.feature_extraction.text import TfidfVectorizer\n",
        "from sklearn.metrics.pairwise import cosine_similarity\n",
        "import numpy as np\n",
        "\n",
        "#def compute_similarity(hku, ust, courses):\n",
        "correct = incorrect = mappingNA = user_input = 0\n",
        "asked_courses = {}\n",
        "documents = [hku[\"Description\"][i] for i in range(len(hku))]\n",
        "on_off = np.zeros(len(hku))\n",
        "while user_input != \"stop\":\n",
        "  user_input = input(\"Enter course code\")\n",
        "  if user_input == \"stop\" or user_input not in ust[\"Code\"].values:\n",
        "    break\n",
        "  if user_input not in asked_courses:\n",
        "\n",
        "    # inserts input course description to documents list\n",
        "    documents.insert(0, ust.loc[ust['Code'] == user_input, 'Description'].iloc[0])\n",
        "\n",
        "    # Create a TF-IDF vectorizer\n",
        "    vectorizer = TfidfVectorizer()\n",
        "\n",
        "    # Fit and transform the documents\n",
        "    tfidf_matrix = vectorizer.fit_transform(documents)\n",
        "\n",
        "    # Compute cosine similarity\n",
        "    cosine_sim = cosine_similarity(tfidf_matrix, tfidf_matrix)\n",
        "\n",
        "    #deletes input course from documents list\n",
        "    best_sim_score = np.delete(cosine_sim[0], 0)\n",
        "    asked_courses[user_input] = best_sim_score\n",
        "\n",
        "  #Finding the index of the most similar course\n",
        "  best_sim_score_index = best_sim_score[0].argmax()\n",
        "  print(hku.loc[best_sim_score_index, \"Code\"])\n",
        "\n",
        "  #Asking for user feedback and updating the model accordingly\n",
        "  user_input_2 = input(\"Is the course matching correct?\")\n",
        "  if user_input_2 == \"yes\":\n",
        "    print(type(best_sim_score))\n",
        "    #We can increase the similarity score of matched course to strengthen the program prediction\n",
        "    print(\"hi\")\n",
        "  elif user_input_2 == \"no\":\n",
        "    #Updating the model slowly for better predictions\n",
        "    #Adding ones to incorrectly predicted course\n",
        "\n",
        "    on_off[best_sim_score_index] = 1\n",
        "    #Appending array to similarity array\n",
        "    if best_sim_score.shape[0]==2:\n",
        "      best_sim_score = np.array([best_sim_score[0],on_off])\n",
        "    else:\n",
        "      best_sim_score = np.array([best_sim_score,on_off])\n",
        "\n",
        "    # Find the indices where the value in the second row is 1\n",
        "    indices = np.where(best_sim_score[1] == 0)[0]\n",
        "    print(best_sim_score,best_sim_score_index)\n",
        "    # Multiply the values in the first row by 2 at the corresponding indices\n",
        "    best_sim_score[0, indices] *= 1.1\n",
        "'''\n",
        "    best_sim_score = np.array([besgt_sim_score,on_off])\n",
        "    best_sim_score[0]*1.1 if best_sim_score[]\n",
        "    best_sim_score[best_sim_score != best_sim_score[best_sim_score_index]] *= 1.10\n",
        "'''\n",
        "\n",
        "\n",
        "asked_courses\n",
        "hku.loc[best_sim_score_index, \"Code\"]\n",
        "      #globals()[user_input+\"sim_score\"] = np.delete(cosine_sim[0], 0)\n",
        "\n",
        "      #globals()[user_input+\"sim_score\"].argmax()\n"
      ]
    }
  ],
  "metadata": {
    "colab": {
      "include_colab_link": true,
      "provenance": []
    },
    "kernelspec": {
      "display_name": "Python 3",
      "name": "python3"
    },
    "language_info": {
      "codemirror_mode": {
        "name": "ipython",
        "version": 3
      },
      "file_extension": ".py",
      "mimetype": "text/x-python",
      "name": "python",
      "nbconvert_exporter": "python",
      "pygments_lexer": "ipython3",
      "version": "3.11.6"
    }
  },
  "nbformat": 4,
  "nbformat_minor": 0
}
