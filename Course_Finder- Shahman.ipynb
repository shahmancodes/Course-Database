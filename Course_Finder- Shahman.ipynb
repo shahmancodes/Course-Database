{
  "cells": [
    {
      "cell_type": "markdown",
      "metadata": {
        "colab_type": "text",
        "id": "view-in-github"
      },
      "source": [
        "<a href=\"https://colab.research.google.com/github/shahmancodes/Course-Database/blob/main/Course_Finder.ipynb\" target=\"_parent\"><img src=\"https://colab.research.google.com/assets/colab-badge.svg\" alt=\"Open In Colab\"/></a>"
      ]
    },
    {
      "cell_type": "code",
      "execution_count": 13,
      "metadata": {
        "id": "aqUERpyICMGC"
      },
      "outputs": [],
      "source": [
        "import numpy as np\n",
        "import pandas as pd\n",
        "import openpyxl\n",
        "import sklearn"
      ]
    },
    {
      "cell_type": "code",
      "execution_count": 14,
      "metadata": {
        "id": "ij74fUYmCON7"
      },
      "outputs": [],
      "source": [
        "ust = pd.read_excel(\"Data/HKUST Comp.xlsx\").dropna()\n",
        "hku = pd.read_csv(\"Data/HKU Comp.csv\")"
      ]
    },
    {
      "cell_type": "code",
      "execution_count": 15,
      "metadata": {
        "id": "39MMaa-p4DNI"
      },
      "outputs": [],
      "source": [
        "courses = {0:[0,1],1:[0],2:[2],3:[0],4:[0,1],5:[],6:[17],7:[1],8:[9],9:[9],10:[26],11:[7],12:[38],13:[8],14:[8],15:[],16:[],17:[25],18:[0],19:[16],20:[16],21:[]}"
      ]
    },
    {
      "cell_type": "code",
      "execution_count": 17,
      "metadata": {
        "colab": {
          "base_uri": "https://localhost:8080/"
        },
        "id": "6oVxEIEFDYhe",
        "outputId": "c1d2ddd2-f3e9-4211-d7a8-62c02769b0aa"
      },
      "outputs": [
        {
          "name": "stdout",
          "output_type": "stream",
          "text": [
            "COMP1117\n",
            "[[0.23134255 0.25694785 0.16207866 0.13213331 0.40610853 0.16207866\n",
            "  0.30319778 0.13496098 0.09396672 0.19673678 0.06931294 0.04994188\n",
            "  0.072617   0.13177448 0.13492927 0.05417679 0.10447175 0.12171374\n",
            "  0.05908549 0.04836944 0.04780025 0.22249853 0.40610853 0.09946489\n",
            "  0.25870372 0.23961933 0.03360762 0.05070886 0.13999351 0.10497711\n",
            "  0.05201507 0.03717517 0.14288509 0.1018629  0.19564194 0.03910055\n",
            "  0.         0.11370303 0.11030369 0.15719069 0.08832809 0.06725275\n",
            "  0.06527978 0.08500404 0.17630368 0.17254828]\n",
            " [1.         0.         0.         0.         0.         0.\n",
            "  0.         0.         0.         0.         0.         0.\n",
            "  0.         0.         0.         0.         0.         0.\n",
            "  0.         0.         0.         0.         0.         0.\n",
            "  0.         0.         0.         0.         0.         0.\n",
            "  0.         0.         0.         0.         0.         0.\n",
            "  0.         0.         0.         0.         0.         0.\n",
            "  0.         0.         0.         0.        ]] 0\n"
          ]
        },
        {
          "data": {
            "text/plain": [
              "'COMP1117'"
            ]
          },
          "execution_count": 17,
          "metadata": {},
          "output_type": "execute_result"
        }
      ],
      "source": [
        "from sklearn.feature_extraction.text import TfidfVectorizer\n",
        "from sklearn.metrics.pairwise import cosine_similarity\n",
        "import numpy as np\n",
        "\n",
        "#def compute_similarity(hku, ust, courses):\n",
        "correct = incorrect = mappingNA = user_input = 0\n",
        "asked_courses = {}\n",
        "documents = [hku[\"Description\"][i] for i in range(len(hku))]\n",
        "on_off = np.zeros(len(hku))\n",
        "while user_input != \"stop\":\n",
        "  user_input = input(\"Enter course code\")\n",
        "  if user_input == \"stop\" or user_input not in ust[\"Code\"].values:\n",
        "    break\n",
        "  if user_input not in asked_courses:\n",
        "\n",
        "    # inserts input course description to documents list\n",
        "    documents.insert(0, ust.loc[ust['Code'] == user_input, 'Description'].iloc[0])\n",
        "\n",
        "    # Create a TF-IDF vectorizer\n",
        "    vectorizer = TfidfVectorizer()\n",
        "\n",
        "    # Fit and transform the documents\n",
        "    tfidf_matrix = vectorizer.fit_transform(documents)\n",
        "\n",
        "    # Compute cosine similarity\n",
        "    cosine_sim = cosine_similarity(tfidf_matrix, tfidf_matrix)\n",
        "\n",
        "    #deletes input course from documents list\n",
        "    best_sim_score = np.delete(cosine_sim[0], 0)\n",
        "    asked_courses[user_input] = best_sim_score\n",
        "\n",
        "  #Finding the index of the most similar course\n",
        "  best_sim_score_index = best_sim_score[0].argmax()\n",
        "  print(hku.loc[best_sim_score_index, \"Code\"])\n",
        "\n",
        "  #Asking for user feedback and updating the model accordingly\n",
        "  user_input_2 = input(\"Is the course matching correct?\")\n",
        "  if user_input_2 == \"yes\":\n",
        "    print(type(best_sim_score))\n",
        "    #We can increase the similarity score of matched course to strengthen the program prediction\n",
        "    print(\"hi\")\n",
        "  elif user_input_2 == \"no\":\n",
        "    #Updating the model slowly for better predictions\n",
        "    #Adding ones to incorrectly predicted course\n",
        "\n",
        "    on_off[best_sim_score_index] = 1\n",
        "    #Appending array to similarity array\n",
        "    if best_sim_score.shape[0]==2:\n",
        "      best_sim_score = np.array([best_sim_score[0],on_off])\n",
        "    else:\n",
        "      best_sim_score = np.array([best_sim_score,on_off])\n",
        "\n",
        "    # Find the indices where the value in the second row is 1\n",
        "    indices = np.where(best_sim_score[1] == 0)[0]\n",
        "    print(best_sim_score,best_sim_score_index)\n",
        "    # Multiply the values in the first row by 2 at the corresponding indices\n",
        "    best_sim_score[0, indices] *= 1.1\n",
        "'''\n",
        "    best_sim_score = np.array([besgt_sim_score,on_off])\n",
        "    best_sim_score[0]*1.1 if best_sim_score[]\n",
        "    best_sim_score[best_sim_score != best_sim_score[best_sim_score_index]] *= 1.10\n",
        "'''\n",
        "\n",
        "\n",
        "asked_courses\n",
        "hku.loc[best_sim_score_index, \"Code\"]\n",
        "      #globals()[user_input+\"sim_score\"] = np.delete(cosine_sim[0], 0)\n",
        "\n",
        "      #globals()[user_input+\"sim_score\"].argmax()\n"
      ]
    }
  ],
  "metadata": {
    "colab": {
      "include_colab_link": true,
      "provenance": []
    },
    "kernelspec": {
      "display_name": "Python 3",
      "name": "python3"
    },
    "language_info": {
      "codemirror_mode": {
        "name": "ipython",
        "version": 3
      },
      "file_extension": ".py",
      "mimetype": "text/x-python",
      "name": "python",
      "nbconvert_exporter": "python",
      "pygments_lexer": "ipython3",
      "version": "3.11.6"
    }
  },
  "nbformat": 4,
  "nbformat_minor": 0
}
